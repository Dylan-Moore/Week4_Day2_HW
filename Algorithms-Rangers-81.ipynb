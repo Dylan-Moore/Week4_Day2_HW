{
 "cells": [
  {
   "cell_type": "markdown",
   "metadata": {},
   "source": [
    "# Cl"
   ]
  },
  {
   "cell_type": "markdown",
   "metadata": {},
   "source": [
    "## Tasks Today:\n",
    " \n",
    "1) <b>In-Place Algorithms</b> <br>\n",
    " &nbsp;&nbsp;&nbsp;&nbsp; a) Syntax <br>\n",
    " &nbsp;&nbsp;&nbsp;&nbsp; a) Out of Place Algorithm <br>\n",
    " &nbsp;&nbsp;&nbsp;&nbsp; b) In-Class Exercise #1 <br>\n",
    "2) <b>Two Pointers</b> <br>\n",
    "3) <b>Linked Lists</b> <br>\n",
    "4) <b>Merge Sort</b> <br>\n",
    " &nbsp;&nbsp;&nbsp;&nbsp; a) Video on Algorithms <br>\n",
    " &nbsp;&nbsp;&nbsp;&nbsp; b) How it Works <br>\n",
    "5) <b>Exercises</b> <br>\n",
    " &nbsp;&nbsp;&nbsp;&nbsp; a) Exercise #1 - Reverse a List in Place Using an In-Place Algorithm <br>\n",
    " &nbsp;&nbsp;&nbsp;&nbsp; b) Exercise #2 - Find Distinct Words <br>\n",
    " &nbsp;&nbsp;&nbsp;&nbsp; c) Exercise #3 - Write a program to implement a Linear Search Algorithm. <br>"
   ]
  },
  {
   "cell_type": "markdown",
   "metadata": {},
   "source": [
    "## In-Place Algorithms"
   ]
  },
  {
   "cell_type": "markdown",
   "metadata": {},
   "source": [
    "#### Syntax"
   ]
  },
  {
   "cell_type": "code",
   "execution_count": 2,
   "metadata": {},
   "outputs": [
    {
     "name": "stdout",
     "output_type": "stream",
     "text": [
      "Before the swap: [20, 10, 4]\n",
      "After the swap: [20, 4, 10]\n"
     ]
    }
   ],
   "source": [
    "#.sort()\n",
    "def swap(alist, x,y):\n",
    "    alist[x], alist[y] = alist[y], alist[x]\n",
    "    return alist\n",
    "my_list = [20, 10, 4]\n",
    "print(f\"Before the swap: {my_list}\")\n",
    "\n",
    "swap(my_list, 1,2)\n",
    "print(f\"After the swap: {my_list}\")"
   ]
  },
  {
   "cell_type": "code",
   "execution_count": 11,
   "metadata": {},
   "outputs": [
    {
     "name": "stdout",
     "output_type": "stream",
     "text": [
      "Before the swap: [20, 10, 4]\n",
      "After the swap: [10, 20, 4]\n"
     ]
    }
   ],
   "source": [
    "#.sort()\n",
    "def swap(alist, x,y,z):\n",
    "    alist[x], alist[y], alist[z] = alist[z], alist[y], alist[x]\n",
    "    return alist\n",
    "my_list = [20, 10, 4]\n",
    "print(f\"Before the swap: {my_list}\")\n",
    "\n",
    "swap(my_list, 0,2,1)\n",
    "print(f\"After the swap: {my_list}\")"
   ]
  },
  {
   "cell_type": "markdown",
   "metadata": {},
   "source": [
    "#### Out of Place Algorithm"
   ]
  },
  {
   "cell_type": "code",
   "execution_count": 16,
   "metadata": {},
   "outputs": [
    {
     "name": "stdout",
     "output_type": "stream",
     "text": [
      "['d', 'c', 'b', 'a']\n",
      "['a', 'a', 'a', 'a']\n",
      "Before ['a', 'b', 'c', 'd']\n",
      "After ['d', 'c', 'b', 'a']\n"
     ]
    }
   ],
   "source": [
    "#.sorted()\n",
    "#not a swap/more of a reversal\n",
    "# my_list = [20, 10, 4,3]\n",
    "# my_list_copy = my_list[::-1]\n",
    "# print(my_list_copy)\n",
    "\n",
    "#copy to another location in memory\n",
    "#space that the object takes up in your computers memory\n",
    "my_list2 = ['a','b','c','d']\n",
    "my_list_copy2 = my_list2[::-1]\n",
    "print(my_list_copy2)\n",
    "array = ['a','b','c','d']\n",
    "new_array = ['a'] * len(array)\n",
    "print(new_array)\n",
    "print(f\"Before {array}\")\n",
    "length = len(array) - 1\n",
    "\n",
    "\n",
    "for i in range(length): #0,1,2\n",
    "#     print(new_array)\n",
    "    new_array[i] = array[length - i]\n",
    "    \n",
    "array = new_array\n",
    "print(\"After\", array)"
   ]
  },
  {
   "cell_type": "markdown",
   "metadata": {},
   "source": [
    "#### In-Class Exercise #1 <br>\n",
    "<p>Write a function that takes in four arguments (list, index1, index2, index3), and swaps those three positions in the list passed in.</p>"
   ]
  },
  {
   "cell_type": "code",
   "execution_count": 24,
   "metadata": {},
   "outputs": [
    {
     "name": "stdout",
     "output_type": "stream",
     "text": [
      "[10, 4, 3, 8, 4, 2, 6]\n",
      "[10, 4, 6, 8, 4, 2, 3]\n"
     ]
    }
   ],
   "source": [
    "      #0  #1 #2 #3 #4 #5 #6\n",
    "l_1 = [10, 4, 3, 8, 4, 2, 6]\n",
    "      [10, 4, 2, 8, 4, 3, 6]\n",
    "print(l_1)\n",
    "def swap(arr, x,y,z):\n",
    "    arr[x], arr[y], arr[z] = arr[z], arr[y], arr[x]\n",
    "    return arr\n",
    "\n",
    "arr = l_1\n",
    "print(swap(arr, 2,3,6))\n"
   ]
  },
  {
   "cell_type": "markdown",
   "metadata": {},
   "source": [
    "## Two Pointers"
   ]
  },
  {
   "cell_type": "markdown",
   "metadata": {},
   "source": [
    "#### Syntax"
   ]
  },
  {
   "cell_type": "code",
   "execution_count": 26,
   "metadata": {},
   "outputs": [
    {
     "name": "stdout",
     "output_type": "stream",
     "text": [
      "[1, 2, 3, 12, 9, 8, 4, 11, 22]\n"
     ]
    },
    {
     "data": {
      "text/plain": [
       "[22, 11, 4, 8, 9, 12, 3, 2, 1]"
      ]
     },
     "execution_count": 26,
     "metadata": {},
     "output_type": "execute_result"
    }
   ],
   "source": [
    "#alist[left], alist[right] = alist[right] alist[left]\n",
    "#use two pointers to swap, can use in a while loop in most cases\n",
    "l_2 = [1, 2, 3, 12, 9, 8, 4, 11, 22]\n",
    "def twoPointers(alist):\n",
    "    #create pointers for the list\n",
    "    left = 0\n",
    "    right = len(alist) - 1\n",
    "    while left <= right:\n",
    "        alist[left], alist[right] = alist[right], alist[left]\n",
    "        left  += 1\n",
    "        right -= 1\n",
    "    return alist\n",
    "print(l_2)\n",
    "twoPointers(l_2)"
   ]
  },
  {
   "cell_type": "markdown",
   "metadata": {},
   "source": [
    "#### Video of Algorithms <br>\n",
    "<p>Watch the video about algorithms.</p>\n",
    "\n",
    "https://www.youtube.com/watch?v=Q9HjeFD62Uk\n",
    "\n",
    "https://www.youtube.com/watch?v=kPRA0W1kECg\n",
    "\n",
    "https://www.youtube.com/watch?v=ZZuD6iUe3Pc"
   ]
  },
  {
   "cell_type": "markdown",
   "metadata": {},
   "source": [
    "# Sorting Algorithms"
   ]
  },
  {
   "cell_type": "markdown",
   "metadata": {},
   "source": [
    "#### Bubble Sort\n",
    "\n",
    "Worst Case: O(n^2) Time - O(1) Space"
   ]
  },
  {
   "cell_type": "code",
   "execution_count": 27,
   "metadata": {},
   "outputs": [
    {
     "data": {
      "text/plain": [
       "[1, 22, 34, 44, 55, 66, 88, 100]"
      ]
     },
     "execution_count": 27,
     "metadata": {},
     "output_type": "execute_result"
    }
   ],
   "source": [
    "# Best Case: O(n) - Linear\n",
    "#Worst Case: O(n^2)\n",
    "def swap(i,j,array):\n",
    "    array[i], array[j] = array[j], array[i]\n",
    "    \n",
    "def bubbleSort(array):\n",
    "    isSorted = False #This is a flag\n",
    "    while not isSorted:\n",
    "        isSorted = True\n",
    "        for num in range(len(array) -1):\n",
    "            if array[num] > array[num +1]:\n",
    "                swap(num, num +1, array)\n",
    "                isSorted = False\n",
    "    return array\n",
    "\n",
    "bubbleSort([22,55,88,44,1,100,34,66])\n",
    "        "
   ]
  },
  {
   "cell_type": "markdown",
   "metadata": {},
   "source": [
    "##### Insertion Sort\n",
    "\n",
    "Worst Case: O(n^2) time - O(1)space"
   ]
  },
  {
   "cell_type": "code",
   "execution_count": 32,
   "metadata": {},
   "outputs": [
    {
     "data": {
      "text/plain": [
       "[1, 22, 34, 44, 55, 66, 88, 100]"
      ]
     },
     "execution_count": 32,
     "metadata": {},
     "output_type": "execute_result"
    }
   ],
   "source": [
    "def swap(i,j,array):\n",
    "    array[i], array[j] = array[j], array[i]\n",
    "    \n",
    "def insertionSort(array):\n",
    "    for i in range(1, len(array)): #consider index 0 to be sorted\n",
    "        #makes sure that we don't go past index 0\n",
    "        j = i\n",
    "        while j >0 and array[j] < array[j-1]:\n",
    "            swap(j, j-1, array)\n",
    "            j -= 1\n",
    "    return array\n",
    "    \n",
    "insertionSort([22,55,88,44,1,100,34,66])"
   ]
  },
  {
   "cell_type": "markdown",
   "metadata": {},
   "source": [
    "## Merge Sort"
   ]
  },
  {
   "cell_type": "markdown",
   "metadata": {},
   "source": [
    "#### How it Works"
   ]
  },
  {
   "cell_type": "code",
   "execution_count": null,
   "metadata": {},
   "outputs": [],
   "source": [
    "[22,55,88,44,1,100,34,66]"
   ]
  },
  {
   "cell_type": "code",
   "execution_count": 33,
   "metadata": {},
   "outputs": [
    {
     "name": "stdout",
     "output_type": "stream",
     "text": [
      "Splitting:.... [22, 55, 88, 44, 1, 100, 34, 66]\n",
      "Splitting:.... [22, 55, 88, 44]\n",
      "Splitting:.... [22, 55]\n",
      "Splitting:.... [22]\n",
      "Merging:  [22]\n",
      "Splitting:.... [55]\n",
      "Merging:  [55]\n",
      "Merging:  [22, 55]\n",
      "Splitting:.... [88, 44]\n",
      "Splitting:.... [88]\n",
      "Merging:  [88]\n",
      "Splitting:.... [44]\n",
      "Merging:  [44]\n",
      "Merging:  [44, 88]\n",
      "Merging:  [22, 44, 55, 88]\n",
      "Splitting:.... [1, 100, 34, 66]\n",
      "Splitting:.... [1, 100]\n",
      "Splitting:.... [1]\n",
      "Merging:  [1]\n",
      "Splitting:.... [100]\n",
      "Merging:  [100]\n",
      "Merging:  [1, 100]\n",
      "Splitting:.... [34, 66]\n",
      "Splitting:.... [34]\n",
      "Merging:  [34]\n",
      "Splitting:.... [66]\n",
      "Merging:  [66]\n",
      "Merging:  [34, 66]\n",
      "Merging:  [1, 34, 66, 100]\n",
      "Merging:  [1, 22, 34, 44, 55, 66, 88, 100]\n"
     ]
    },
    {
     "data": {
      "text/plain": [
       "[1, 22, 34, 44, 55, 66, 88, 100]"
      ]
     },
     "execution_count": 33,
     "metadata": {},
     "output_type": "execute_result"
    }
   ],
   "source": [
    "#Step 1: Split everything into its own group (list)\n",
    "#Step 2: From the left to right merge two groups together\n",
    "#Step 3: While merging, place each item in the correct position within the merged group\n",
    "#Step 4: Continue with steps 3-4 until one group is left\n",
    "\n",
    "#merge sort function\n",
    "def mergeSort(alist):\n",
    "    print(\"Splitting:....\", alist)\n",
    "    \n",
    "    #Step 1: Divide the array into equal subarrays(groups) as evenly as possible\n",
    "    if len(alist) >1:\n",
    "        mid = len(alist) // 2\n",
    "        lefthalf = alist[:mid]\n",
    "        righthalf = alist[mid:]\n",
    "        \n",
    "        #recursively call mergeSort to peform splits if needed\n",
    "        #then merge once the splits are done\n",
    "        mergeSort(lefthalf)\n",
    "        mergeSort(righthalf)\n",
    "        \n",
    "        #index pointers for our list\n",
    "        l = 0 #pointer for left half \n",
    "        r = 0 #pointer for right half\n",
    "        m = 0 #pointer for main array\n",
    "        \n",
    "        #Step 2 compare left half and right half\n",
    "        while l < len(lefthalf) and r < len(righthalf):\n",
    "            if lefthalf[l] < righthalf[r]:\n",
    "                alist[m] = lefthalf[l]\n",
    "                l+=1\n",
    "            else:\n",
    "                alist[m] = righthalf[r]\n",
    "                r+=1\n",
    "                \n",
    "            m+=1\n",
    "            \n",
    "        while l < len(lefthalf):\n",
    "            alist[m] = lefthalf[l]\n",
    "            l+=1\n",
    "            m+=1\n",
    "            \n",
    "        while r < len(righthalf):\n",
    "            alist[m] = righthalf[r]\n",
    "            r+=1\n",
    "            m+=1\n",
    "            \n",
    "    print(\"Merging: \", alist)\n",
    "    return alist\n",
    "\n",
    "mergeSort([22,55,88,44,1,100,34,66])"
   ]
  },
  {
   "cell_type": "markdown",
   "metadata": {},
   "source": [
    "# Binary Search\n",
    "\n",
    "The Binary Search algorithm works by finding the number in the middle of a given array and comparing it to the target. Given that the array is sorted\n",
    "\n",
    "* The worst case run time for this algorithm is `O(log(n))`"
   ]
  },
  {
   "cell_type": "code",
   "execution_count": 36,
   "metadata": {},
   "outputs": [
    {
     "data": {
      "text/plain": [
       "'The index is... 4'"
      ]
     },
     "execution_count": 36,
     "metadata": {},
     "output_type": "execute_result"
    }
   ],
   "source": [
    "#Less == left\n",
    "#Greater == right\n",
    "#List of numbers MUST BE sorted\n",
    "\n",
    "def binarySearchHelper(array, target, left, right):\n",
    "    while left <= right:\n",
    "        middle = (left + right)//2\n",
    "        potentialMatch = array[middle]\n",
    "        if target == potentialMatch:\n",
    "            return f\"The index is... {middle}\"\n",
    "        elif target < potentialMatch:\n",
    "            right = middle -1\n",
    "        else:\n",
    "            left = middle +1\n",
    "    return -1\n",
    "\n",
    "def binarySearch(array,target):\n",
    "    return binarySearchHelper(array, target, 0, len(array) -1)\n",
    "\n",
    "binarySearch([1, 22, 34, 44, 55, 66, 88, 100], 55)\n",
    "        "
   ]
  },
  {
   "cell_type": "markdown",
   "metadata": {},
   "source": [
    "# Exercises"
   ]
  },
  {
   "cell_type": "markdown",
   "metadata": {},
   "source": [
    "### Exercise #1 <br>\n",
    "<p>Reverse the list below in-place using an in-place algorithm.<br>For extra credit: Reverse the strings at the same time.</p>"
   ]
  },
  {
   "cell_type": "code",
   "execution_count": 47,
   "metadata": {},
   "outputs": [
    {
     "name": "stdout",
     "output_type": "stream",
     "text": [
      "['.', 'sentence', 'a', 'is', 'this']\n"
     ]
    }
   ],
   "source": [
    "words = ['this' , 'is', 'a', 'sentence', '.']\n",
    "def swap(arr, a,b,x,y,z):\n",
    "    arr[a], arr[b],arr[x],arr[y],arr[z] = arr[z],arr[y],arr[x],arr[b],arr[a]\n",
    "    return arr\n",
    "print(swap(words,0,1,2,3,4))\n",
    "\n",
    "def flipflop(arr):\n",
    "    for [i] in arr:\n",
    "        i = i.reversed()\n",
    "    return i\n",
    "    "
   ]
  },
  {
   "cell_type": "markdown",
   "metadata": {},
   "source": [
    "### Exercise #2 <br>\n",
    "<p>Create a function that counts how many distinct words are in the string below, then outputs a dictionary with the words as the key and the value as the amount of times that word appears in the string.<br>Should output:<br>{'a': 5,<br>\n",
    " 'abstract': 1,<br>\n",
    " 'an': 3,<br>\n",
    " 'array': 2, ... etc...</p>"
   ]
  },
  {
   "cell_type": "code",
   "execution_count": 104,
   "metadata": {},
   "outputs": [
    {
     "name": "stdout",
     "output_type": "stream",
     "text": [
      "['In', 'computing', 'a', 'hash', 'table', 'hash', 'map', 'is', 'a', 'data', 'structure', 'which', 'implements', 'an', 'associative', 'array', 'abstract', 'data', 'type', 'a', 'structure', 'that', 'can', 'map', 'keys', 'to', 'values', 'A', 'hash', 'table', 'uses', 'a', 'hash', 'function', 'to', 'compute', 'an', 'index', 'into', 'an', 'array', 'of', 'buckets', 'or', 'slots', 'from', 'which', 'the', 'desired', 'value', 'can', 'be', 'found']\n"
     ]
    },
    {
     "data": {
      "text/plain": [
       "[('A', 1),\n",
       " ('In', 1),\n",
       " ('a', 4),\n",
       " ('abstract', 1),\n",
       " ('an', 3),\n",
       " ('array', 2),\n",
       " ('associative', 1),\n",
       " ('be', 1),\n",
       " ('buckets', 1),\n",
       " ('can', 2),\n",
       " ('compute', 1),\n",
       " ('computing', 1),\n",
       " ('data', 2),\n",
       " ('desired', 1),\n",
       " ('found', 1),\n",
       " ('from', 1),\n",
       " ('function', 1),\n",
       " ('hash', 4),\n",
       " ('implements', 1),\n",
       " ('index', 1),\n",
       " ('into', 1),\n",
       " ('is', 1),\n",
       " ('keys', 1),\n",
       " ('map', 2),\n",
       " ('of', 1),\n",
       " ('or', 1),\n",
       " ('slots', 1),\n",
       " ('structure', 2),\n",
       " ('table', 2),\n",
       " ('that', 1),\n",
       " ('the', 1),\n",
       " ('to', 2),\n",
       " ('type', 1),\n",
       " ('uses', 1),\n",
       " ('value', 1),\n",
       " ('values', 1),\n",
       " ('which', 2)]"
      ]
     },
     "execution_count": 104,
     "metadata": {},
     "output_type": "execute_result"
    }
   ],
   "source": [
    "import re\n",
    "a_text = 'In computing, a hash table hash map is a data structure which implements an associative array abstract data type, a structure that can map keys to values. A hash table uses a hash function to compute an index into an array of buckets or slots from which the desired value can be found'\n",
    "pattern_word = re.compile('([A-Za-z][a-z]*)')\n",
    "found_word = pattern_word.findall(a_text)\n",
    "print(found_word)\n",
    "def count(string):\n",
    "    a_text = 'In computing, a hash table hash map is a data structure which implements an associative array abstract data type, a structure that can map keys to values. A hash table uses a hash function to compute an index into an array of buckets or slots from which the desired value can be found'\n",
    "    pattern_word = re.compile('([A-Za-z][a-z]*)')\n",
    "    found_word = pattern_word.findall(a_text)\n",
    "    words_count = {}\n",
    "    for i in found_word:\n",
    "        words_count[i] = words_count.get(i,0) +1\n",
    "    return sorted(words_count.items())\n",
    "count(a_text)\n",
    "        \n"
   ]
  },
  {
   "cell_type": "markdown",
   "metadata": {},
   "source": [
    "## Exercise #3\n",
    "\n",
    "Write a program to implement a Linear Search Algorithm. Also in a comment, write the Time Complexity of the following algorithm.\n",
    "\n",
    "#### Hint: Linear Searching will require searching a list for a given number. "
   ]
  },
  {
   "cell_type": "code",
   "execution_count": 89,
   "metadata": {},
   "outputs": [
    {
     "data": {
      "text/plain": [
       "3"
      ]
     },
     "execution_count": 89,
     "metadata": {},
     "output_type": "execute_result"
    }
   ],
   "source": [
    "def search(arr, x):\n",
    "    for i in range(len(arr)):\n",
    "        if arr[i] == x:\n",
    "            return i\n",
    "    return -1\n",
    "search([1, 22, 34, 44, 55, 66, 88, 100], 44)"
   ]
  }
 ],
 "metadata": {
  "kernelspec": {
   "display_name": "Python 3 (ipykernel)",
   "language": "python",
   "name": "python3"
  },
  "language_info": {
   "codemirror_mode": {
    "name": "ipython",
    "version": 3
   },
   "file_extension": ".py",
   "mimetype": "text/x-python",
   "name": "python",
   "nbconvert_exporter": "python",
   "pygments_lexer": "ipython3",
   "version": "3.9.12"
  }
 },
 "nbformat": 4,
 "nbformat_minor": 2
}
